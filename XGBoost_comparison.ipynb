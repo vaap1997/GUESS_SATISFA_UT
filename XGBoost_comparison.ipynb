{
 "cells": [
  {
   "cell_type": "code",
   "execution_count": 1,
   "metadata": {},
   "outputs": [
    {
     "name": "stdout",
     "output_type": "stream",
     "text": [
      "Populating the interactive namespace from numpy and matplotlib\n"
     ]
    }
   ],
   "source": [
    "import warnings\n",
    "warnings.filterwarnings('ignore')\n",
    "import pandas as pd\n",
    "import numpy as np\n",
    "from xgboost import XGBRegressor\n",
    "from xgboost import XGBClassifier\n",
    "from sklearn.metrics import r2_score, classification_report, confusion_matrix, accuracy_score, f1_score, precision_score,recall_score\n",
    "from sklearn.model_selection import train_test_split\n",
    "from patsy import dmatrices\n",
    "%pylab inline\n"
   ]
  },
  {
   "cell_type": "code",
   "execution_count": 2,
   "metadata": {},
   "outputs": [
    {
     "data": {
      "text/plain": [
       "Index(['City', 'Price', 'Day', 'Room Type', 'Shared Room', 'Private Room',\n",
       "       'Person Capacity', 'Superhost', 'Multiple Rooms', 'Business',\n",
       "       'Cleanliness Rating', 'Guest Satisfaction', 'Bedrooms',\n",
       "       'City Center (km)', 'Metro Distance (km)', 'Attraction Index',\n",
       "       'Normalised Attraction Index', 'Restraunt Index',\n",
       "       'Normalised Restraunt Index'],\n",
       "      dtype='object')"
      ]
     },
     "execution_count": 2,
     "metadata": {},
     "output_type": "execute_result"
    }
   ],
   "source": [
    "data = pd.read_csv('Aemf1 2.csv')\n",
    "data.columns\n"
   ]
  },
  {
   "cell_type": "code",
   "execution_count": 3,
   "metadata": {},
   "outputs": [
    {
     "data": {
      "text/plain": [
       "Index(['City', 'Price', 'Day', 'Room Type', 'Shared_Room', 'Private Room',\n",
       "       'Person Capacity', 'Superhost', 'Multiple_Rooms', 'Business',\n",
       "       'Cleanliness_Rating', 'Guest_Satisfaction', 'Bedrooms',\n",
       "       'City_Center_km', 'Metro_Distance_km', 'Attraction_Index',\n",
       "       'Normalised_Attraction_Index', 'Restraunt_Index',\n",
       "       'Normalised_Restraunt_Index'],\n",
       "      dtype='object')"
      ]
     },
     "execution_count": 3,
     "metadata": {},
     "output_type": "execute_result"
    }
   ],
   "source": [
    "data.rename(columns={'Shared Room':'Shared_Room',\n",
    "                     'Guest Satisfaction':'Guest_Satisfaction',\n",
    "                            'Multiple Rooms':'Multiple_Rooms',\n",
    "                            'Cleanliness Rating':'Cleanliness_Rating',\n",
    "                            'City Center (km)':'City_Center_km',\n",
    "                            'Metro Distance (km)':'Metro_Distance_km',\n",
    "                            'Attraction Index':'Attraction_Index',\n",
    "                            'Normalised Attraction Index':'Normalised_Attraction_Index',\n",
    "                            'Restraunt Index':'Restraunt_Index',\n",
    "                            'Normalised Restraunt Index':'Normalised_Restraunt_Index'},inplace=True)\n",
    "data.columns"
   ]
  },
  {
   "cell_type": "code",
   "execution_count": 4,
   "metadata": {},
   "outputs": [
    {
     "data": {
      "text/html": [
       "<div>\n",
       "<style scoped>\n",
       "    .dataframe tbody tr th:only-of-type {\n",
       "        vertical-align: middle;\n",
       "    }\n",
       "\n",
       "    .dataframe tbody tr th {\n",
       "        vertical-align: top;\n",
       "    }\n",
       "\n",
       "    .dataframe thead th {\n",
       "        text-align: right;\n",
       "    }\n",
       "</style>\n",
       "<table border=\"1\" class=\"dataframe\">\n",
       "  <thead>\n",
       "    <tr style=\"text-align: right;\">\n",
       "      <th></th>\n",
       "      <th>City</th>\n",
       "      <th>Price</th>\n",
       "      <th>Day</th>\n",
       "      <th>Room Type</th>\n",
       "      <th>Shared_Room</th>\n",
       "      <th>Private Room</th>\n",
       "      <th>Person Capacity</th>\n",
       "      <th>Superhost</th>\n",
       "      <th>Multiple_Rooms</th>\n",
       "      <th>Business</th>\n",
       "      <th>...</th>\n",
       "      <th>City_Center_km</th>\n",
       "      <th>Metro_Distance_km</th>\n",
       "      <th>Attraction_Index</th>\n",
       "      <th>Normalised_Attraction_Index</th>\n",
       "      <th>Restraunt_Index</th>\n",
       "      <th>Normalised_Restraunt_Index</th>\n",
       "      <th>City_st</th>\n",
       "      <th>Entire_room_st</th>\n",
       "      <th>Weekend_st</th>\n",
       "      <th>Superhost_st</th>\n",
       "    </tr>\n",
       "  </thead>\n",
       "  <tbody>\n",
       "    <tr>\n",
       "      <th>0</th>\n",
       "      <td>Amsterdam</td>\n",
       "      <td>194.033698</td>\n",
       "      <td>Weekday</td>\n",
       "      <td>Private room</td>\n",
       "      <td>0</td>\n",
       "      <td>True</td>\n",
       "      <td>2.0</td>\n",
       "      <td>False</td>\n",
       "      <td>1</td>\n",
       "      <td>0</td>\n",
       "      <td>...</td>\n",
       "      <td>5.022964</td>\n",
       "      <td>2.539380</td>\n",
       "      <td>78.690379</td>\n",
       "      <td>4.166708</td>\n",
       "      <td>98.253896</td>\n",
       "      <td>6.846473</td>\n",
       "      <td>96.0</td>\n",
       "      <td>0</td>\n",
       "      <td>0</td>\n",
       "      <td>0</td>\n",
       "    </tr>\n",
       "    <tr>\n",
       "      <th>1</th>\n",
       "      <td>Amsterdam</td>\n",
       "      <td>344.245776</td>\n",
       "      <td>Weekday</td>\n",
       "      <td>Private room</td>\n",
       "      <td>0</td>\n",
       "      <td>True</td>\n",
       "      <td>4.0</td>\n",
       "      <td>False</td>\n",
       "      <td>0</td>\n",
       "      <td>0</td>\n",
       "      <td>...</td>\n",
       "      <td>0.488389</td>\n",
       "      <td>0.239404</td>\n",
       "      <td>631.176378</td>\n",
       "      <td>33.421209</td>\n",
       "      <td>837.280757</td>\n",
       "      <td>58.342928</td>\n",
       "      <td>96.0</td>\n",
       "      <td>0</td>\n",
       "      <td>0</td>\n",
       "      <td>0</td>\n",
       "    </tr>\n",
       "    <tr>\n",
       "      <th>2</th>\n",
       "      <td>Amsterdam</td>\n",
       "      <td>264.101422</td>\n",
       "      <td>Weekday</td>\n",
       "      <td>Private room</td>\n",
       "      <td>0</td>\n",
       "      <td>True</td>\n",
       "      <td>2.0</td>\n",
       "      <td>False</td>\n",
       "      <td>0</td>\n",
       "      <td>1</td>\n",
       "      <td>...</td>\n",
       "      <td>5.748312</td>\n",
       "      <td>3.651621</td>\n",
       "      <td>75.275877</td>\n",
       "      <td>3.985908</td>\n",
       "      <td>95.386955</td>\n",
       "      <td>6.646700</td>\n",
       "      <td>96.0</td>\n",
       "      <td>0</td>\n",
       "      <td>0</td>\n",
       "      <td>0</td>\n",
       "    </tr>\n",
       "    <tr>\n",
       "      <th>3</th>\n",
       "      <td>Amsterdam</td>\n",
       "      <td>433.529398</td>\n",
       "      <td>Weekday</td>\n",
       "      <td>Private room</td>\n",
       "      <td>0</td>\n",
       "      <td>True</td>\n",
       "      <td>4.0</td>\n",
       "      <td>False</td>\n",
       "      <td>0</td>\n",
       "      <td>1</td>\n",
       "      <td>...</td>\n",
       "      <td>0.384862</td>\n",
       "      <td>0.439876</td>\n",
       "      <td>493.272534</td>\n",
       "      <td>26.119108</td>\n",
       "      <td>875.033098</td>\n",
       "      <td>60.973565</td>\n",
       "      <td>96.0</td>\n",
       "      <td>0</td>\n",
       "      <td>0</td>\n",
       "      <td>0</td>\n",
       "    </tr>\n",
       "    <tr>\n",
       "      <th>4</th>\n",
       "      <td>Amsterdam</td>\n",
       "      <td>485.552926</td>\n",
       "      <td>Weekday</td>\n",
       "      <td>Private room</td>\n",
       "      <td>0</td>\n",
       "      <td>True</td>\n",
       "      <td>2.0</td>\n",
       "      <td>True</td>\n",
       "      <td>0</td>\n",
       "      <td>0</td>\n",
       "      <td>...</td>\n",
       "      <td>0.544738</td>\n",
       "      <td>0.318693</td>\n",
       "      <td>552.830324</td>\n",
       "      <td>29.272733</td>\n",
       "      <td>815.305740</td>\n",
       "      <td>56.811677</td>\n",
       "      <td>96.0</td>\n",
       "      <td>0</td>\n",
       "      <td>0</td>\n",
       "      <td>1</td>\n",
       "    </tr>\n",
       "  </tbody>\n",
       "</table>\n",
       "<p>5 rows × 23 columns</p>\n",
       "</div>"
      ],
      "text/plain": [
       "        City       Price      Day     Room Type  Shared_Room  Private Room  \\\n",
       "0  Amsterdam  194.033698  Weekday  Private room            0          True   \n",
       "1  Amsterdam  344.245776  Weekday  Private room            0          True   \n",
       "2  Amsterdam  264.101422  Weekday  Private room            0          True   \n",
       "3  Amsterdam  433.529398  Weekday  Private room            0          True   \n",
       "4  Amsterdam  485.552926  Weekday  Private room            0          True   \n",
       "\n",
       "   Person Capacity  Superhost  Multiple_Rooms  Business  ...  City_Center_km  \\\n",
       "0              2.0      False               1         0  ...        5.022964   \n",
       "1              4.0      False               0         0  ...        0.488389   \n",
       "2              2.0      False               0         1  ...        5.748312   \n",
       "3              4.0      False               0         1  ...        0.384862   \n",
       "4              2.0       True               0         0  ...        0.544738   \n",
       "\n",
       "   Metro_Distance_km  Attraction_Index  Normalised_Attraction_Index  \\\n",
       "0           2.539380         78.690379                     4.166708   \n",
       "1           0.239404        631.176378                    33.421209   \n",
       "2           3.651621         75.275877                     3.985908   \n",
       "3           0.439876        493.272534                    26.119108   \n",
       "4           0.318693        552.830324                    29.272733   \n",
       "\n",
       "   Restraunt_Index  Normalised_Restraunt_Index  City_st  Entire_room_st  \\\n",
       "0        98.253896                    6.846473     96.0               0   \n",
       "1       837.280757                   58.342928     96.0               0   \n",
       "2        95.386955                    6.646700     96.0               0   \n",
       "3       875.033098                   60.973565     96.0               0   \n",
       "4       815.305740                   56.811677     96.0               0   \n",
       "\n",
       "   Weekend_st  Superhost_st  \n",
       "0           0             0  \n",
       "1           0             0  \n",
       "2           0             0  \n",
       "3           0             0  \n",
       "4           0             1  \n",
       "\n",
       "[5 rows x 23 columns]"
      ]
     },
     "execution_count": 4,
     "metadata": {},
     "output_type": "execute_result"
    }
   ],
   "source": [
    "city_g = data.groupby('City')['Guest_Satisfaction'].median().reset_index().rename(columns={'Guest_Satisfaction':'City_st'})\n",
    "data = data.merge(city_g, on='City',how='left')\n",
    "\n",
    "data['Entire_room_st'] = np.where(data['Room Type']=='Entire home/apt',1,0)\n",
    "data['Weekend_st']= pd.get_dummies(data['Day'], drop_first=True)\n",
    "data['Superhost_st'] = pd.get_dummies(data['Superhost'], drop_first=True)\n",
    "data['Shared_Room'] = pd.get_dummies(data['Shared_Room'], drop_first=True)\n",
    "\n",
    "data.head()\n",
    "\n"
   ]
  },
  {
   "cell_type": "markdown",
   "metadata": {},
   "source": [
    "### Regression"
   ]
  },
  {
   "cell_type": "code",
   "execution_count": 5,
   "metadata": {},
   "outputs": [
    {
     "name": "stdout",
     "output_type": "stream",
     "text": [
      "Guest_Satisfaction ~ 0 + City_st + Weekend_st + Entire_room_st + Shared_Room + Superhost_st + Multiple_Rooms + Business + Cleanliness_Rating + Price + Bedrooms + City_Center_km + Metro_Distance_km + Attraction_Index + Normalised_Attraction_Index + Restraunt_Index + Normalised_Restraunt_Index\n"
     ]
    }
   ],
   "source": [
    "x_columns = ['City_st','Weekend_st','Entire_room_st','Shared_Room','Superhost_st','Multiple_Rooms',\n",
    "             'Business','Cleanliness_Rating', 'Price', 'Bedrooms',\n",
    "               'City_Center_km', 'Metro_Distance_km', 'Attraction_Index',\n",
    "               'Normalised_Attraction_Index', 'Restraunt_Index', 'Normalised_Restraunt_Index']\n",
    "\n",
    "\n",
    "formula = 'Guest_Satisfaction ~ 0 + ' + ' + '.join([ x for x in x_columns])\n",
    "print(formula)\n",
    "\n",
    "Y, X = dmatrices(formula,data,return_type=\"dataframe\")\n",
    "\n",
    "X_train, X_test, y_train, y_test = train_test_split(X, Y, test_size=0.2, random_state=1)\n",
    "\n",
    "\n"
   ]
  },
  {
   "cell_type": "code",
   "execution_count": 6,
   "metadata": {},
   "outputs": [
    {
     "data": {
      "text/plain": [
       "array([0.0227887 , 0.00306076, 0.01483831, 0.0057316 , 0.03439998,\n",
       "       0.01561795, 0.04483685, 0.6864017 , 0.02026688, 0.01608679,\n",
       "       0.02030095, 0.02259904, 0.02056484, 0.02827484, 0.02316709,\n",
       "       0.02106375], dtype=float32)"
      ]
     },
     "execution_count": 6,
     "metadata": {},
     "output_type": "execute_result"
    }
   ],
   "source": [
    "model = XGBRegressor()\n",
    "model.fit(X_train,y_train)\n",
    "model.feature_importances_"
   ]
  },
  {
   "cell_type": "code",
   "execution_count": 7,
   "metadata": {},
   "outputs": [
    {
     "data": {
      "text/plain": [
       "0.6207695386109227"
      ]
     },
     "execution_count": 7,
     "metadata": {},
     "output_type": "execute_result"
    }
   ],
   "source": [
    "y_pred = model.predict(X_test)\n",
    "r2_score(y_test, y_pred)"
   ]
  },
  {
   "cell_type": "code",
   "execution_count": 8,
   "metadata": {},
   "outputs": [
    {
     "data": {
      "text/html": [
       "<div>\n",
       "<style scoped>\n",
       "    .dataframe tbody tr th:only-of-type {\n",
       "        vertical-align: middle;\n",
       "    }\n",
       "\n",
       "    .dataframe tbody tr th {\n",
       "        vertical-align: top;\n",
       "    }\n",
       "\n",
       "    .dataframe thead th {\n",
       "        text-align: right;\n",
       "    }\n",
       "</style>\n",
       "<table border=\"1\" class=\"dataframe\">\n",
       "  <thead>\n",
       "    <tr style=\"text-align: right;\">\n",
       "      <th></th>\n",
       "      <th>Guess_satisfaction_real</th>\n",
       "      <th>Guess_satisfaction_pred</th>\n",
       "      <th>Guess_satisfaction_real_cat</th>\n",
       "      <th>Guess_satisfaction_pred_cat</th>\n",
       "    </tr>\n",
       "  </thead>\n",
       "  <tbody>\n",
       "    <tr>\n",
       "      <th>26813</th>\n",
       "      <td>60.0</td>\n",
       "      <td>73.033684</td>\n",
       "      <td>2.MEDIUM</td>\n",
       "      <td>3.HIGH</td>\n",
       "    </tr>\n",
       "    <tr>\n",
       "      <th>31082</th>\n",
       "      <td>98.0</td>\n",
       "      <td>98.550613</td>\n",
       "      <td>4.EX_HIGH</td>\n",
       "      <td>4.EX_HIGH</td>\n",
       "    </tr>\n",
       "    <tr>\n",
       "      <th>32921</th>\n",
       "      <td>90.0</td>\n",
       "      <td>89.216515</td>\n",
       "      <td>4.EX_HIGH</td>\n",
       "      <td>4.EX_HIGH</td>\n",
       "    </tr>\n",
       "    <tr>\n",
       "      <th>28620</th>\n",
       "      <td>95.0</td>\n",
       "      <td>96.204338</td>\n",
       "      <td>4.EX_HIGH</td>\n",
       "      <td>4.EX_HIGH</td>\n",
       "    </tr>\n",
       "    <tr>\n",
       "      <th>9211</th>\n",
       "      <td>100.0</td>\n",
       "      <td>95.022644</td>\n",
       "      <td>4.EX_HIGH</td>\n",
       "      <td>4.EX_HIGH</td>\n",
       "    </tr>\n",
       "  </tbody>\n",
       "</table>\n",
       "</div>"
      ],
      "text/plain": [
       "       Guess_satisfaction_real  Guess_satisfaction_pred  \\\n",
       "26813                     60.0                73.033684   \n",
       "31082                     98.0                98.550613   \n",
       "32921                     90.0                89.216515   \n",
       "28620                     95.0                96.204338   \n",
       "9211                     100.0                95.022644   \n",
       "\n",
       "      Guess_satisfaction_real_cat Guess_satisfaction_pred_cat  \n",
       "26813                    2.MEDIUM                      3.HIGH  \n",
       "31082                   4.EX_HIGH                   4.EX_HIGH  \n",
       "32921                   4.EX_HIGH                   4.EX_HIGH  \n",
       "28620                   4.EX_HIGH                   4.EX_HIGH  \n",
       "9211                    4.EX_HIGH                   4.EX_HIGH  "
      ]
     },
     "execution_count": 8,
     "metadata": {},
     "output_type": "execute_result"
    }
   ],
   "source": [
    "data_test = pd.DataFrame()\n",
    "data_test['Guess_satisfaction_real'] = y_test\n",
    "data_test['Guess_satisfaction_pred'] = y_pred\n",
    "data_test['Guess_satisfaction_real_cat'] = pd.cut(data_test['Guess_satisfaction_real'],[19, 36, 52, 68, 84,101],labels=['0.EX_LOW','1.LOW','2.MEDIUM','3.HIGH','4.EX_HIGH']).astype(str)\n",
    "data_test['Guess_satisfaction_pred_cat'] = pd.cut(data_test['Guess_satisfaction_pred'],[19, 36, 52, 68, 84,101],labels=['0.EX_LOW','1.LOW','2.MEDIUM','3.HIGH','4.EX_HIGH']).astype(str)\n",
    "data_test.head()\n"
   ]
  },
  {
   "cell_type": "code",
   "execution_count": 9,
   "metadata": {},
   "outputs": [
    {
     "data": {
      "text/html": [
       "<div>\n",
       "<style scoped>\n",
       "    .dataframe tbody tr th:only-of-type {\n",
       "        vertical-align: middle;\n",
       "    }\n",
       "\n",
       "    .dataframe tbody tr th {\n",
       "        vertical-align: top;\n",
       "    }\n",
       "\n",
       "    .dataframe thead th {\n",
       "        text-align: right;\n",
       "    }\n",
       "</style>\n",
       "<table border=\"1\" class=\"dataframe\">\n",
       "  <thead>\n",
       "    <tr style=\"text-align: right;\">\n",
       "      <th></th>\n",
       "      <th>Guess_satisfaction_real</th>\n",
       "      <th>Guess_satisfaction_pred</th>\n",
       "      <th>Guess_satisfaction_pred_cat</th>\n",
       "    </tr>\n",
       "    <tr>\n",
       "      <th>Guess_satisfaction_real_cat</th>\n",
       "      <th></th>\n",
       "      <th></th>\n",
       "      <th></th>\n",
       "    </tr>\n",
       "  </thead>\n",
       "  <tbody>\n",
       "    <tr>\n",
       "      <th>0.EX_LOW</th>\n",
       "      <td>20</td>\n",
       "      <td>20</td>\n",
       "      <td>20</td>\n",
       "    </tr>\n",
       "    <tr>\n",
       "      <th>1.LOW</th>\n",
       "      <td>29</td>\n",
       "      <td>29</td>\n",
       "      <td>29</td>\n",
       "    </tr>\n",
       "    <tr>\n",
       "      <th>2.MEDIUM</th>\n",
       "      <td>107</td>\n",
       "      <td>107</td>\n",
       "      <td>107</td>\n",
       "    </tr>\n",
       "    <tr>\n",
       "      <th>3.HIGH</th>\n",
       "      <td>729</td>\n",
       "      <td>729</td>\n",
       "      <td>729</td>\n",
       "    </tr>\n",
       "    <tr>\n",
       "      <th>4.EX_HIGH</th>\n",
       "      <td>7458</td>\n",
       "      <td>7458</td>\n",
       "      <td>7458</td>\n",
       "    </tr>\n",
       "  </tbody>\n",
       "</table>\n",
       "</div>"
      ],
      "text/plain": [
       "                             Guess_satisfaction_real  Guess_satisfaction_pred  \\\n",
       "Guess_satisfaction_real_cat                                                     \n",
       "0.EX_LOW                                          20                       20   \n",
       "1.LOW                                             29                       29   \n",
       "2.MEDIUM                                         107                      107   \n",
       "3.HIGH                                           729                      729   \n",
       "4.EX_HIGH                                       7458                     7458   \n",
       "\n",
       "                             Guess_satisfaction_pred_cat  \n",
       "Guess_satisfaction_real_cat                               \n",
       "0.EX_LOW                                              20  \n",
       "1.LOW                                                 29  \n",
       "2.MEDIUM                                             107  \n",
       "3.HIGH                                               729  \n",
       "4.EX_HIGH                                           7458  "
      ]
     },
     "execution_count": 9,
     "metadata": {},
     "output_type": "execute_result"
    }
   ],
   "source": [
    "data_test.groupby('Guess_satisfaction_real_cat').count()\n"
   ]
  },
  {
   "cell_type": "code",
   "execution_count": 10,
   "metadata": {},
   "outputs": [
    {
     "data": {
      "text/html": [
       "<div>\n",
       "<style scoped>\n",
       "    .dataframe tbody tr th:only-of-type {\n",
       "        vertical-align: middle;\n",
       "    }\n",
       "\n",
       "    .dataframe tbody tr th {\n",
       "        vertical-align: top;\n",
       "    }\n",
       "\n",
       "    .dataframe thead th {\n",
       "        text-align: right;\n",
       "    }\n",
       "</style>\n",
       "<table border=\"1\" class=\"dataframe\">\n",
       "  <thead>\n",
       "    <tr style=\"text-align: right;\">\n",
       "      <th></th>\n",
       "      <th>0.EX_LOW</th>\n",
       "      <th>1.LOW</th>\n",
       "      <th>2.MEDIUM</th>\n",
       "      <th>3.HIGH</th>\n",
       "      <th>4.EX_HIGH</th>\n",
       "      <th>nan</th>\n",
       "      <th>accuracy</th>\n",
       "      <th>macro avg</th>\n",
       "      <th>weighted avg</th>\n",
       "    </tr>\n",
       "  </thead>\n",
       "  <tbody>\n",
       "    <tr>\n",
       "      <th>precision</th>\n",
       "      <td>0.846154</td>\n",
       "      <td>0.642857</td>\n",
       "      <td>0.523810</td>\n",
       "      <td>0.579572</td>\n",
       "      <td>0.935024</td>\n",
       "      <td>0.0</td>\n",
       "      <td>0.91394</td>\n",
       "      <td>0.587903</td>\n",
       "      <td>0.897462</td>\n",
       "    </tr>\n",
       "    <tr>\n",
       "      <th>recall</th>\n",
       "      <td>0.550000</td>\n",
       "      <td>0.310345</td>\n",
       "      <td>0.205607</td>\n",
       "      <td>0.334705</td>\n",
       "      <td>0.984044</td>\n",
       "      <td>0.0</td>\n",
       "      <td>0.91394</td>\n",
       "      <td>0.397450</td>\n",
       "      <td>0.913940</td>\n",
       "    </tr>\n",
       "    <tr>\n",
       "      <th>f1-score</th>\n",
       "      <td>0.666667</td>\n",
       "      <td>0.418605</td>\n",
       "      <td>0.295302</td>\n",
       "      <td>0.424348</td>\n",
       "      <td>0.958908</td>\n",
       "      <td>0.0</td>\n",
       "      <td>0.91394</td>\n",
       "      <td>0.460638</td>\n",
       "      <td>0.901109</td>\n",
       "    </tr>\n",
       "    <tr>\n",
       "      <th>support</th>\n",
       "      <td>20.000000</td>\n",
       "      <td>29.000000</td>\n",
       "      <td>107.000000</td>\n",
       "      <td>729.000000</td>\n",
       "      <td>7458.000000</td>\n",
       "      <td>0.0</td>\n",
       "      <td>0.91394</td>\n",
       "      <td>8343.000000</td>\n",
       "      <td>8343.000000</td>\n",
       "    </tr>\n",
       "  </tbody>\n",
       "</table>\n",
       "</div>"
      ],
      "text/plain": [
       "            0.EX_LOW      1.LOW    2.MEDIUM      3.HIGH    4.EX_HIGH  nan  \\\n",
       "precision   0.846154   0.642857    0.523810    0.579572     0.935024  0.0   \n",
       "recall      0.550000   0.310345    0.205607    0.334705     0.984044  0.0   \n",
       "f1-score    0.666667   0.418605    0.295302    0.424348     0.958908  0.0   \n",
       "support    20.000000  29.000000  107.000000  729.000000  7458.000000  0.0   \n",
       "\n",
       "           accuracy    macro avg  weighted avg  \n",
       "precision   0.91394     0.587903      0.897462  \n",
       "recall      0.91394     0.397450      0.913940  \n",
       "f1-score    0.91394     0.460638      0.901109  \n",
       "support     0.91394  8343.000000   8343.000000  "
      ]
     },
     "execution_count": 10,
     "metadata": {},
     "output_type": "execute_result"
    }
   ],
   "source": [
    "report = classification_report(data_test['Guess_satisfaction_real_cat'], data_test['Guess_satisfaction_pred_cat'],output_dict=True)\n",
    "pd.DataFrame(report)"
   ]
  },
  {
   "cell_type": "code",
   "execution_count": 11,
   "metadata": {},
   "outputs": [
    {
     "data": {
      "text/plain": [
       "array([[  11,    4,    1,    0,    2],\n",
       "       [   2,    9,   10,    2,    6],\n",
       "       [   0,    1,   22,   59,   25],\n",
       "       [   0,    0,    8,  244,  477],\n",
       "       [   0,    0,    1,  116, 7339]])"
      ]
     },
     "execution_count": 11,
     "metadata": {},
     "output_type": "execute_result"
    }
   ],
   "source": [
    "confusion_matrix(data_test['Guess_satisfaction_real_cat'], data_test['Guess_satisfaction_pred_cat'], labels=['0.EX_LOW','1.LOW','2.MEDIUM','3.HIGH','4.EX_HIGH'])\n"
   ]
  },
  {
   "cell_type": "markdown",
   "metadata": {},
   "source": [
    "### Classifier"
   ]
  },
  {
   "cell_type": "code",
   "execution_count": 18,
   "metadata": {},
   "outputs": [],
   "source": [
    "y_train_cat = pd.DataFrame()\n",
    "y_train_cat['Guest_Satisfaction']= pd.cut(y_train['Guest_Satisfaction'],[19, 36, 52, 68, 84,101],labels=[0,1,2,3,4]).astype(int)\n",
    "y_test_cat = pd.DataFrame()\n",
    "y_test_cat['Guest_Satisfaction']= pd.cut(y_test['Guest_Satisfaction'],[19, 36, 52, 68, 84,101],labels=[0,1,2,3,4]).astype(int)\n"
   ]
  },
  {
   "cell_type": "code",
   "execution_count": 19,
   "metadata": {},
   "outputs": [
    {
     "name": "stdout",
     "output_type": "stream",
     "text": [
      "[08:59:29] WARNING: /opt/concourse/worker/volumes/live/7a2b9f41-3287-451b-6691-43e9a6c0910f/volume/xgboost-split_1619728204606/work/src/learner.cc:1061: Starting in XGBoost 1.3.0, the default evaluation metric used with the objective 'multi:softprob' was changed from 'merror' to 'mlogloss'. Explicitly set eval_metric if you'd like to restore the old behavior.\n",
      "              precision    recall  f1-score   support\n",
      "\n",
      "           0       0.89      0.85      0.87        20\n",
      "           1       0.94      0.55      0.70        29\n",
      "           2       0.80      0.41      0.54       107\n",
      "           3       0.67      0.38      0.48       729\n",
      "           4       0.94      0.99      0.96      7458\n",
      "\n",
      "    accuracy                           0.92      8343\n",
      "   macro avg       0.85      0.64      0.71      8343\n",
      "weighted avg       0.91      0.92      0.91      8343\n",
      "\n"
     ]
    }
   ],
   "source": [
    "xgb = XGBClassifier(objective ='multi:softprob', num_class = 5, use_label_encoder = False)\n",
    "xgb.fit(X_train, y_train_cat)\n",
    "y_pred = xgb.predict(X_test)\n",
    "\n",
    "print(classification_report(y_test_cat, y_pred))\n",
    "\n",
    "\n",
    "\n"
   ]
  },
  {
   "cell_type": "code",
   "execution_count": 32,
   "metadata": {},
   "outputs": [
    {
     "data": {
      "text/html": [
       "<div>\n",
       "<style scoped>\n",
       "    .dataframe tbody tr th:only-of-type {\n",
       "        vertical-align: middle;\n",
       "    }\n",
       "\n",
       "    .dataframe tbody tr th {\n",
       "        vertical-align: top;\n",
       "    }\n",
       "\n",
       "    .dataframe thead th {\n",
       "        text-align: right;\n",
       "    }\n",
       "</style>\n",
       "<table border=\"1\" class=\"dataframe\">\n",
       "  <thead>\n",
       "    <tr style=\"text-align: right;\">\n",
       "      <th></th>\n",
       "      <th>rec_bad</th>\n",
       "      <th>rec_good</th>\n",
       "      <th>rec_tot</th>\n",
       "      <th>acc_bad</th>\n",
       "      <th>acc_good</th>\n",
       "      <th>acc_tot</th>\n",
       "    </tr>\n",
       "  </thead>\n",
       "  <tbody>\n",
       "    <tr>\n",
       "      <th>0</th>\n",
       "      <td>0.49359</td>\n",
       "      <td>0.93221</td>\n",
       "      <td>0.924008</td>\n",
       "      <td>0.83839</td>\n",
       "      <td>0.914299</td>\n",
       "      <td>0.91288</td>\n",
       "    </tr>\n",
       "  </tbody>\n",
       "</table>\n",
       "</div>"
      ],
      "text/plain": [
       "   rec_bad  rec_good   rec_tot  acc_bad  acc_good  acc_tot\n",
       "0  0.49359   0.93221  0.924008  0.83839  0.914299  0.91288"
      ]
     },
     "execution_count": 32,
     "metadata": {},
     "output_type": "execute_result"
    }
   ],
   "source": [
    "y_pred =  xgb.predict(X_test)\n",
    "\n",
    "resumen = pd.DataFrame()\n",
    "\n",
    "report_prev = classification_report(y_test_cat,y_pred,output_dict=True)\n",
    "report = pd.DataFrame(report_prev)\n",
    "\n",
    "\n",
    "report['0.0'] = report['0']*sum(y_test_cat==0)[0]\n",
    "report['1.0'] = report['1']*sum(y_test_cat==1)[0]\n",
    "report['2.0'] = report['2']*sum(y_test_cat==2)[0]\n",
    "report['3.0'] = report['3']*sum(y_test_cat==3)[0]\n",
    "report['4.0'] = report['4']*sum(y_test_cat==4)[0]\n",
    "nresumen = len(resumen)\n",
    "\n",
    "resumen.loc[nresumen,'rec_bad'] = report.loc['recall'][['0.0', '1.0', '2.0']].sum()/sum(y_test_cat<=2)[0]\n",
    "resumen.loc[nresumen,'rec_good'] = report.loc['recall'][['3.0', '4.0']].sum()/sum(y_test_cat>2)[0]\n",
    "resumen.loc[nresumen,'rec_tot'] = report.loc['recall'][['0.0', '1.0', '2.0','3.0', '4.0']].sum()/len(y_test_cat)\n",
    "resumen.loc[nresumen,'acc_bad'] = report.loc['precision'][['0.0', '1.0', '2.0']].sum()/sum(y_test_cat<=2)[0]\n",
    "resumen.loc[nresumen,'acc_good'] = report.loc['precision'][['3.0', '4.0']].sum()/sum(y_test_cat>2)[0]\n",
    "resumen.loc[nresumen,'acc_tot'] = report.loc['precision'][['0.0', '1.0', '2.0','3.0', '4.0']].sum()/len(y_test_cat)\n",
    "resumen"
   ]
  }
 ],
 "metadata": {
  "kernelspec": {
   "display_name": "Python 3",
   "language": "python",
   "name": "python3"
  },
  "language_info": {
   "codemirror_mode": {
    "name": "ipython",
    "version": 3
   },
   "file_extension": ".py",
   "mimetype": "text/x-python",
   "name": "python",
   "nbconvert_exporter": "python",
   "pygments_lexer": "ipython3",
   "version": "3.8.5"
  }
 },
 "nbformat": 4,
 "nbformat_minor": 4
}
